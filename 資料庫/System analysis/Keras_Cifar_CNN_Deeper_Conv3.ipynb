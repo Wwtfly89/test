{
 "cells": [
  {
   "cell_type": "markdown",
   "metadata": {},
   "source": [
    "# 1. Import Library"
   ]
  },
  {
   "cell_type": "code",
   "execution_count": 1,
   "metadata": {},
   "outputs": [],
   "source": [
    "# Simple CNN model for the CIFAR-10 Dataset\n",
    "import numpy\n",
    "from keras.datasets import cifar10\n",
    "import numpy as np\n",
    "np.random.seed(10)"
   ]
  },
  {
   "cell_type": "markdown",
   "metadata": {},
   "source": [
    "# 資料準備"
   ]
  },
  {
   "cell_type": "code",
   "execution_count": 2,
   "metadata": {},
   "outputs": [],
   "source": [
    "(X_img_train, y_label_train), (X_img_test, y_label_test) = cifar10.load_data()"
   ]
  },
  {
   "cell_type": "code",
   "execution_count": 3,
   "metadata": {},
   "outputs": [
    {
     "name": "stdout",
     "output_type": "stream",
     "text": [
      "train data: images: (50000, 32, 32, 3)  labels: (50000, 1)\n",
      "test  data: images: (10000, 32, 32, 3)  labels: (10000, 1)\n"
     ]
    }
   ],
   "source": [
    "print(\"train data:\",'images:',X_img_train.shape,\" labels:\",y_label_train.shape) \n",
    "print(\"test  data:\",'images:',X_img_test.shape ,\" labels:\",y_label_test.shape) "
   ]
  },
  {
   "cell_type": "code",
   "execution_count": 4,
   "metadata": {},
   "outputs": [],
   "source": [
    "X_img_train_normalize = X_img_train.astype('float32') / 255.0\n",
    "X_img_test_normalize = X_img_test.astype('float32') / 255.0"
   ]
  },
  {
   "cell_type": "code",
   "execution_count": 5,
   "metadata": {},
   "outputs": [],
   "source": [
    "from keras.utils import np_utils\n",
    "y_label_train_OneHot = np_utils.to_categorical(y_label_train)\n",
    "y_label_test_OneHot = np_utils.to_categorical(y_label_test)"
   ]
  },
  {
   "cell_type": "code",
   "execution_count": 6,
   "metadata": {},
   "outputs": [
    {
     "data": {
      "text/plain": [
       "(10000, 10)"
      ]
     },
     "execution_count": 6,
     "metadata": {},
     "output_type": "execute_result"
    }
   ],
   "source": [
    "y_label_test_OneHot.shape"
   ]
  },
  {
   "cell_type": "markdown",
   "metadata": {},
   "source": [
    "# 建立模型"
   ]
  },
  {
   "cell_type": "code",
   "execution_count": 7,
   "metadata": {},
   "outputs": [],
   "source": [
    "from keras.models import Sequential\n",
    "from keras.layers import Dense, Dropout, Activation, Flatten\n",
    "from keras.layers import Conv2D, MaxPooling2D, ZeroPadding2D"
   ]
  },
  {
   "cell_type": "code",
   "execution_count": 8,
   "metadata": {},
   "outputs": [],
   "source": [
    "model = Sequential()"
   ]
  },
  {
   "cell_type": "code",
   "execution_count": 9,
   "metadata": {},
   "outputs": [],
   "source": [
    "#卷積層1與池化層1"
   ]
  },
  {
   "cell_type": "code",
   "execution_count": 10,
   "metadata": {},
   "outputs": [],
   "source": [
    "model.add(Conv2D(filters=30,kernel_size=(3, 3),input_shape=(32, 32,3),\n",
    "                 activation='relu', padding='same'))\n",
    "model.add(Dropout(0.3))\n",
    "model.add(Conv2D(filters=30, kernel_size=(3, 3),\n",
    "                 activation='relu', padding='same'))\n",
    "model.add(MaxPooling2D(pool_size=(2, 2)))"
   ]
  },
  {
   "cell_type": "code",
   "execution_count": 11,
   "metadata": {},
   "outputs": [],
   "source": [
    "#卷積層2與池化層2"
   ]
  },
  {
   "cell_type": "code",
   "execution_count": 12,
   "metadata": {},
   "outputs": [],
   "source": [
    "model.add(Conv2D(filters=50, kernel_size=(3, 3),\n",
    "                 activation='relu', padding='same'))\n",
    "model.add(Dropout(0.1))\n",
    "model.add(Conv2D(filters=50, kernel_size=(3, 3), \n",
    "                 activation='relu', padding='same'))\n",
    "model.add(MaxPooling2D(pool_size=(2, 2)))"
   ]
  },
  {
   "cell_type": "code",
   "execution_count": 13,
   "metadata": {},
   "outputs": [],
   "source": [
    "#卷積層3與池化層3"
   ]
  },
  {
   "cell_type": "code",
   "execution_count": 14,
   "metadata": {},
   "outputs": [],
   "source": [
    "model.add(Conv2D(filters=150, kernel_size=(3, 3), \n",
    "                 activation='relu', padding='same'))\n",
    "model.add(Dropout(0.2))\n",
    "model.add(Conv2D(filters=150, kernel_size=(3, 3), \n",
    "                 activation='relu', padding='same'))\n",
    "model.add(MaxPooling2D(pool_size=(2, 2)))"
   ]
  },
  {
   "cell_type": "code",
   "execution_count": 15,
   "metadata": {},
   "outputs": [],
   "source": [
    "#建立神經網路(平坦層、隱藏層、輸出層)"
   ]
  },
  {
   "cell_type": "code",
   "execution_count": 16,
   "metadata": {},
   "outputs": [],
   "source": [
    "model.add(Flatten())\n",
    "model.add(Dropout(0.3))\n",
    "model.add(Dense(2700, activation='relu'))\n",
    "model.add(Dropout(0.3))\n",
    "model.add(Dense(1500, activation='relu'))\n",
    "model.add(Dropout(0.3))\n",
    "model.add(Dense(10, activation='softmax'))"
   ]
  },
  {
   "cell_type": "code",
   "execution_count": 17,
   "metadata": {},
   "outputs": [
    {
     "name": "stdout",
     "output_type": "stream",
     "text": [
      "Model: \"sequential\"\n",
      "_________________________________________________________________\n",
      " Layer (type)                Output Shape              Param #   \n",
      "=================================================================\n",
      " conv2d (Conv2D)             (None, 32, 32, 30)        840       \n",
      "                                                                 \n",
      " dropout (Dropout)           (None, 32, 32, 30)        0         \n",
      "                                                                 \n",
      " conv2d_1 (Conv2D)           (None, 32, 32, 30)        8130      \n",
      "                                                                 \n",
      " max_pooling2d (MaxPooling2D  (None, 16, 16, 30)       0         \n",
      " )                                                               \n",
      "                                                                 \n",
      " conv2d_2 (Conv2D)           (None, 16, 16, 50)        13550     \n",
      "                                                                 \n",
      " dropout_1 (Dropout)         (None, 16, 16, 50)        0         \n",
      "                                                                 \n",
      " conv2d_3 (Conv2D)           (None, 16, 16, 50)        22550     \n",
      "                                                                 \n",
      " max_pooling2d_1 (MaxPooling  (None, 8, 8, 50)         0         \n",
      " 2D)                                                             \n",
      "                                                                 \n",
      " conv2d_4 (Conv2D)           (None, 8, 8, 150)         67650     \n",
      "                                                                 \n",
      " dropout_2 (Dropout)         (None, 8, 8, 150)         0         \n",
      "                                                                 \n",
      " conv2d_5 (Conv2D)           (None, 8, 8, 150)         202650    \n",
      "                                                                 \n",
      " max_pooling2d_2 (MaxPooling  (None, 4, 4, 150)        0         \n",
      " 2D)                                                             \n",
      "                                                                 \n",
      " flatten (Flatten)           (None, 2400)              0         \n",
      "                                                                 \n",
      " dropout_3 (Dropout)         (None, 2400)              0         \n",
      "                                                                 \n",
      " dense (Dense)               (None, 2700)              6482700   \n",
      "                                                                 \n",
      " dropout_4 (Dropout)         (None, 2700)              0         \n",
      "                                                                 \n",
      " dense_1 (Dense)             (None, 1500)              4051500   \n",
      "                                                                 \n",
      " dropout_5 (Dropout)         (None, 1500)              0         \n",
      "                                                                 \n",
      " dense_2 (Dense)             (None, 10)                15010     \n",
      "                                                                 \n",
      "=================================================================\n",
      "Total params: 10,864,580\n",
      "Trainable params: 10,864,580\n",
      "Non-trainable params: 0\n",
      "_________________________________________________________________\n",
      "None\n"
     ]
    }
   ],
   "source": [
    "print(model.summary())"
   ]
  },
  {
   "cell_type": "markdown",
   "metadata": {},
   "source": [
    "# 載入之前訓練的模型"
   ]
  },
  {
   "cell_type": "code",
   "execution_count": 18,
   "metadata": {},
   "outputs": [
    {
     "name": "stdout",
     "output_type": "stream",
     "text": [
      "載入模型失敗!開始訓練一個新模型\n"
     ]
    }
   ],
   "source": [
    "try:\n",
    "    model.load_weights(\"SaveModel/cifarCnnModelnew.h5\")\n",
    "    print(\"載入模型成功!繼續訓練模型\")\n",
    "except :    \n",
    "    print(\"載入模型失敗!開始訓練一個新模型\")"
   ]
  },
  {
   "cell_type": "markdown",
   "metadata": {},
   "source": [
    "# 訓練模型"
   ]
  },
  {
   "cell_type": "code",
   "execution_count": 19,
   "metadata": {},
   "outputs": [],
   "source": [
    "model.compile(loss='categorical_crossentropy', optimizer='adam',\n",
    "              metrics=['accuracy'])"
   ]
  },
  {
   "cell_type": "code",
   "execution_count": 20,
   "metadata": {},
   "outputs": [
    {
     "name": "stdout",
     "output_type": "stream",
     "text": [
      "Epoch 1/50\n",
      "267/267 [==============================] - 99s 368ms/step - loss: 1.7697 - accuracy: 0.3338 - val_loss: 1.5980 - val_accuracy: 0.4156\n",
      "Epoch 2/50\n",
      "267/267 [==============================] - 98s 368ms/step - loss: 1.3491 - accuracy: 0.5079 - val_loss: 1.2057 - val_accuracy: 0.5580\n",
      "Epoch 3/50\n",
      "267/267 [==============================] - 97s 364ms/step - loss: 1.1343 - accuracy: 0.5941 - val_loss: 1.0438 - val_accuracy: 0.6306\n",
      "Epoch 4/50\n",
      "267/267 [==============================] - 96s 360ms/step - loss: 1.0021 - accuracy: 0.6451 - val_loss: 0.9625 - val_accuracy: 0.6639\n",
      "Epoch 5/50\n",
      "267/267 [==============================] - 96s 359ms/step - loss: 0.8925 - accuracy: 0.6839 - val_loss: 0.8309 - val_accuracy: 0.7023\n",
      "Epoch 6/50\n",
      "267/267 [==============================] - 96s 360ms/step - loss: 0.8041 - accuracy: 0.7165 - val_loss: 0.8215 - val_accuracy: 0.7104\n",
      "Epoch 7/50\n",
      "267/267 [==============================] - 98s 366ms/step - loss: 0.7293 - accuracy: 0.7416 - val_loss: 0.8152 - val_accuracy: 0.7142\n",
      "Epoch 8/50\n",
      "267/267 [==============================] - 96s 361ms/step - loss: 0.6765 - accuracy: 0.7609 - val_loss: 0.7201 - val_accuracy: 0.7512\n",
      "Epoch 9/50\n",
      "267/267 [==============================] - 96s 360ms/step - loss: 0.6180 - accuracy: 0.7818 - val_loss: 0.7064 - val_accuracy: 0.7541\n",
      "Epoch 10/50\n",
      "267/267 [==============================] - 97s 362ms/step - loss: 0.5797 - accuracy: 0.7931 - val_loss: 0.6830 - val_accuracy: 0.7586\n",
      "Epoch 11/50\n",
      "267/267 [==============================] - 96s 358ms/step - loss: 0.5298 - accuracy: 0.8116 - val_loss: 0.6904 - val_accuracy: 0.7675\n",
      "Epoch 12/50\n",
      "267/267 [==============================] - 96s 358ms/step - loss: 0.4957 - accuracy: 0.8239 - val_loss: 0.6594 - val_accuracy: 0.7748\n",
      "Epoch 13/50\n",
      "267/267 [==============================] - 95s 357ms/step - loss: 0.4618 - accuracy: 0.8354 - val_loss: 0.6805 - val_accuracy: 0.7727\n",
      "Epoch 14/50\n",
      "267/267 [==============================] - 97s 362ms/step - loss: 0.4318 - accuracy: 0.8470 - val_loss: 0.6743 - val_accuracy: 0.7770\n",
      "Epoch 15/50\n",
      "267/267 [==============================] - 98s 366ms/step - loss: 0.3902 - accuracy: 0.8611 - val_loss: 0.7092 - val_accuracy: 0.7700\n",
      "Epoch 16/50\n",
      "267/267 [==============================] - 94s 353ms/step - loss: 0.3772 - accuracy: 0.8649 - val_loss: 0.6747 - val_accuracy: 0.7775\n",
      "Epoch 17/50\n",
      "267/267 [==============================] - 95s 355ms/step - loss: 0.3576 - accuracy: 0.8735 - val_loss: 0.6823 - val_accuracy: 0.7811\n",
      "Epoch 18/50\n",
      "267/267 [==============================] - 95s 354ms/step - loss: 0.3360 - accuracy: 0.8788 - val_loss: 0.7134 - val_accuracy: 0.7870\n",
      "Epoch 19/50\n",
      "267/267 [==============================] - 95s 355ms/step - loss: 0.3181 - accuracy: 0.8884 - val_loss: 0.6902 - val_accuracy: 0.7860\n",
      "Epoch 20/50\n",
      "267/267 [==============================] - 95s 357ms/step - loss: 0.2972 - accuracy: 0.8939 - val_loss: 0.7167 - val_accuracy: 0.7809\n",
      "Epoch 21/50\n",
      "267/267 [==============================] - 95s 354ms/step - loss: 0.2954 - accuracy: 0.8966 - val_loss: 0.7127 - val_accuracy: 0.7840\n",
      "Epoch 22/50\n",
      "267/267 [==============================] - 95s 355ms/step - loss: 0.2670 - accuracy: 0.9055 - val_loss: 0.7607 - val_accuracy: 0.7812\n",
      "Epoch 23/50\n",
      "267/267 [==============================] - 94s 353ms/step - loss: 0.2592 - accuracy: 0.9083 - val_loss: 0.7212 - val_accuracy: 0.7852\n",
      "Epoch 24/50\n",
      "267/267 [==============================] - 94s 354ms/step - loss: 0.2535 - accuracy: 0.9091 - val_loss: 0.7293 - val_accuracy: 0.7849\n",
      "Epoch 25/50\n",
      "267/267 [==============================] - 94s 353ms/step - loss: 0.2435 - accuracy: 0.9153 - val_loss: 0.7399 - val_accuracy: 0.7908\n",
      "Epoch 26/50\n",
      "267/267 [==============================] - 95s 354ms/step - loss: 0.2265 - accuracy: 0.9199 - val_loss: 0.7074 - val_accuracy: 0.7911\n",
      "Epoch 27/50\n",
      "267/267 [==============================] - 94s 354ms/step - loss: 0.2261 - accuracy: 0.9217 - val_loss: 0.7468 - val_accuracy: 0.7935\n",
      "Epoch 28/50\n",
      "267/267 [==============================] - 95s 354ms/step - loss: 0.2224 - accuracy: 0.9233 - val_loss: 0.7407 - val_accuracy: 0.7872\n",
      "Epoch 29/50\n",
      "267/267 [==============================] - 95s 355ms/step - loss: 0.2238 - accuracy: 0.9224 - val_loss: 0.7619 - val_accuracy: 0.7893\n",
      "Epoch 30/50\n",
      "267/267 [==============================] - 95s 355ms/step - loss: 0.2082 - accuracy: 0.9261 - val_loss: 0.7835 - val_accuracy: 0.7871\n",
      "Epoch 31/50\n",
      "267/267 [==============================] - 95s 357ms/step - loss: 0.1991 - accuracy: 0.9316 - val_loss: 0.8281 - val_accuracy: 0.7812\n",
      "Epoch 32/50\n",
      "267/267 [==============================] - 95s 357ms/step - loss: 0.2048 - accuracy: 0.9287 - val_loss: 0.7596 - val_accuracy: 0.7916\n",
      "Epoch 33/50\n",
      "267/267 [==============================] - 94s 354ms/step - loss: 0.1880 - accuracy: 0.9346 - val_loss: 0.7737 - val_accuracy: 0.7966\n",
      "Epoch 34/50\n",
      "267/267 [==============================] - 95s 355ms/step - loss: 0.1880 - accuracy: 0.9344 - val_loss: 0.8142 - val_accuracy: 0.7919\n",
      "Epoch 35/50\n",
      "267/267 [==============================] - 94s 353ms/step - loss: 0.1935 - accuracy: 0.9331 - val_loss: 0.7906 - val_accuracy: 0.7845\n",
      "Epoch 36/50\n",
      "267/267 [==============================] - 95s 354ms/step - loss: 0.1861 - accuracy: 0.9362 - val_loss: 0.8081 - val_accuracy: 0.7848\n",
      "Epoch 37/50\n",
      "267/267 [==============================] - 94s 353ms/step - loss: 0.1791 - accuracy: 0.9398 - val_loss: 0.7865 - val_accuracy: 0.7862\n",
      "Epoch 38/50\n",
      "267/267 [==============================] - 95s 356ms/step - loss: 0.1757 - accuracy: 0.9422 - val_loss: 0.7611 - val_accuracy: 0.7974\n",
      "Epoch 39/50\n",
      "267/267 [==============================] - 94s 354ms/step - loss: 0.1754 - accuracy: 0.9404 - val_loss: 0.7939 - val_accuracy: 0.7890\n",
      "Epoch 40/50\n",
      "267/267 [==============================] - 95s 354ms/step - loss: 0.1850 - accuracy: 0.9365 - val_loss: 0.7926 - val_accuracy: 0.7886\n",
      "Epoch 41/50\n",
      "267/267 [==============================] - 95s 355ms/step - loss: 0.1697 - accuracy: 0.9431 - val_loss: 0.8136 - val_accuracy: 0.7896\n",
      "Epoch 42/50\n",
      "267/267 [==============================] - 94s 353ms/step - loss: 0.1750 - accuracy: 0.9403 - val_loss: 0.7983 - val_accuracy: 0.7939\n",
      "Epoch 43/50\n",
      "267/267 [==============================] - 94s 354ms/step - loss: 0.1634 - accuracy: 0.9454 - val_loss: 0.8249 - val_accuracy: 0.7933\n",
      "Epoch 44/50\n",
      "267/267 [==============================] - 95s 355ms/step - loss: 0.1604 - accuracy: 0.9454 - val_loss: 0.8029 - val_accuracy: 0.7887\n",
      "Epoch 45/50\n",
      "267/267 [==============================] - 94s 354ms/step - loss: 0.1639 - accuracy: 0.9444 - val_loss: 0.7850 - val_accuracy: 0.7941\n",
      "Epoch 46/50\n",
      "267/267 [==============================] - 94s 353ms/step - loss: 0.1716 - accuracy: 0.9421 - val_loss: 0.8125 - val_accuracy: 0.7878\n",
      "Epoch 47/50\n",
      "267/267 [==============================] - 95s 356ms/step - loss: 0.1568 - accuracy: 0.9467 - val_loss: 0.7940 - val_accuracy: 0.7969\n",
      "Epoch 48/50\n",
      "267/267 [==============================] - 95s 354ms/step - loss: 0.1588 - accuracy: 0.9468 - val_loss: 0.8013 - val_accuracy: 0.7899\n",
      "Epoch 49/50\n",
      "267/267 [==============================] - 95s 354ms/step - loss: 0.1575 - accuracy: 0.9465 - val_loss: 0.7692 - val_accuracy: 0.7946\n",
      "Epoch 50/50\n",
      "267/267 [==============================] - 95s 356ms/step - loss: 0.1660 - accuracy: 0.9446 - val_loss: 0.7815 - val_accuracy: 0.7908\n"
     ]
    }
   ],
   "source": [
    "train_history=model.fit(X_img_train_normalize, y_label_train_OneHot,\n",
    "                        validation_split=0.2,\n",
    "                        epochs=50, batch_size=150, verbose=1)          "
   ]
  },
  {
   "cell_type": "code",
   "execution_count": 21,
   "metadata": {},
   "outputs": [],
   "source": [
    "import matplotlib.pyplot as plt\n",
    "def show_train_history(train_acc,test_acc):\n",
    "    plt.plot(train_history.history[train_acc])\n",
    "    plt.plot(train_history.history[test_acc])\n",
    "    plt.title('Train History')\n",
    "    plt.ylabel('Accuracy')\n",
    "    plt.xlabel('Epoch')\n",
    "    plt.legend(['train', 'test'], loc='upper left')\n",
    "    plt.show()"
   ]
  },
  {
   "cell_type": "code",
   "execution_count": 22,
   "metadata": {},
   "outputs": [
    {
     "ename": "KeyError",
     "evalue": "'acc'",
     "output_type": "error",
     "traceback": [
      "\u001b[0;31m\u001b[0m",
      "\u001b[0;31mKeyError\u001b[0mTraceback (most recent call last)",
      "\u001b[0;32m<ipython-input-22-eb6f00575ffd>\u001b[0m in \u001b[0;36m<module>\u001b[0;34m\u001b[0m\n\u001b[0;32m----> 1\u001b[0;31m \u001b[0mshow_train_history\u001b[0m\u001b[0;34m(\u001b[0m\u001b[0;34m'acc'\u001b[0m\u001b[0;34m,\u001b[0m\u001b[0;34m'val_acc'\u001b[0m\u001b[0;34m)\u001b[0m\u001b[0;34m\u001b[0m\u001b[0;34m\u001b[0m\u001b[0m\n\u001b[0m",
      "\u001b[0;32m<ipython-input-21-bcdcc83687a1>\u001b[0m in \u001b[0;36mshow_train_history\u001b[0;34m(train_acc, test_acc)\u001b[0m\n\u001b[1;32m      1\u001b[0m \u001b[0;32mimport\u001b[0m \u001b[0mmatplotlib\u001b[0m\u001b[0;34m.\u001b[0m\u001b[0mpyplot\u001b[0m \u001b[0;32mas\u001b[0m \u001b[0mplt\u001b[0m\u001b[0;34m\u001b[0m\u001b[0;34m\u001b[0m\u001b[0m\n\u001b[1;32m      2\u001b[0m \u001b[0;32mdef\u001b[0m \u001b[0mshow_train_history\u001b[0m\u001b[0;34m(\u001b[0m\u001b[0mtrain_acc\u001b[0m\u001b[0;34m,\u001b[0m\u001b[0mtest_acc\u001b[0m\u001b[0;34m)\u001b[0m\u001b[0;34m:\u001b[0m\u001b[0;34m\u001b[0m\u001b[0;34m\u001b[0m\u001b[0m\n\u001b[0;32m----> 3\u001b[0;31m     \u001b[0mplt\u001b[0m\u001b[0;34m.\u001b[0m\u001b[0mplot\u001b[0m\u001b[0;34m(\u001b[0m\u001b[0mtrain_history\u001b[0m\u001b[0;34m.\u001b[0m\u001b[0mhistory\u001b[0m\u001b[0;34m[\u001b[0m\u001b[0mtrain_acc\u001b[0m\u001b[0;34m]\u001b[0m\u001b[0;34m)\u001b[0m\u001b[0;34m\u001b[0m\u001b[0;34m\u001b[0m\u001b[0m\n\u001b[0m\u001b[1;32m      4\u001b[0m     \u001b[0mplt\u001b[0m\u001b[0;34m.\u001b[0m\u001b[0mplot\u001b[0m\u001b[0;34m(\u001b[0m\u001b[0mtrain_history\u001b[0m\u001b[0;34m.\u001b[0m\u001b[0mhistory\u001b[0m\u001b[0;34m[\u001b[0m\u001b[0mtest_acc\u001b[0m\u001b[0;34m]\u001b[0m\u001b[0;34m)\u001b[0m\u001b[0;34m\u001b[0m\u001b[0;34m\u001b[0m\u001b[0m\n\u001b[1;32m      5\u001b[0m     \u001b[0mplt\u001b[0m\u001b[0;34m.\u001b[0m\u001b[0mtitle\u001b[0m\u001b[0;34m(\u001b[0m\u001b[0;34m'Train History'\u001b[0m\u001b[0;34m)\u001b[0m\u001b[0;34m\u001b[0m\u001b[0;34m\u001b[0m\u001b[0m\n",
      "\u001b[0;31mKeyError\u001b[0m: 'acc'"
     ]
    }
   ],
   "source": [
    "show_train_history('acc','val_acc')"
   ]
  },
  {
   "cell_type": "code",
   "execution_count": 23,
   "metadata": {
    "scrolled": true
   },
   "outputs": [
    {
     "data": {
      "image/png": "[encoded data removed]",
      "text/plain": [
       "<Figure size 640x480 with 1 Axes>"
      ]
     },
     "metadata": {},
     "output_type": "display_data"
    }
   ],
   "source": [
    "show_train_history('loss','val_loss')"
   ]
  },
  {
   "cell_type": "markdown",
   "metadata": {},
   "source": [
    "# 評估模型準確率"
   ]
  },
  {
   "cell_type": "code",
   "execution_count": 24,
   "metadata": {},
   "outputs": [
    {
     "data": {
      "text/plain": [
       "0.7799999713897705"
      ]
     },
     "execution_count": 24,
     "metadata": {},
     "output_type": "execute_result"
    }
   ],
   "source": [
    "scores = model.evaluate(X_img_test_normalize, \n",
    "                        y_label_test_OneHot,verbose=0)\n",
    "scores[1]"
   ]
  },
  {
   "cell_type": "markdown",
   "metadata": {},
   "source": [
    "# 進行預測"
   ]
  },
  {
   "cell_type": "code",
   "execution_count": null,
   "metadata": {},
   "outputs": [],
   "source": [
    "prediction=model.predict_classes(X_img_test_normalize)"
   ]
  },
  {
   "cell_type": "code",
   "execution_count": null,
   "metadata": {},
   "outputs": [],
   "source": [
    "prediction[:10]"
   ]
  },
  {
   "cell_type": "code",
   "execution_count": null,
   "metadata": {},
   "outputs": [],
   "source": [
    "label_dict={0:\"airplane\",1:\"automobile\",2:\"bird\",3:\"cat\",4:\"deer\",\n",
    "            5:\"dog\",6:\"frog\",7:\"horse\",8:\"ship\",9:\"truck\"}"
   ]
  },
  {
   "cell_type": "code",
   "execution_count": null,
   "metadata": {},
   "outputs": [],
   "source": [
    "import matplotlib.pyplot as plt\n",
    "def plot_images_labels_prediction(images,labels,prediction,\n",
    "                                  idx,num=10):\n",
    "    fig = plt.gcf()\n",
    "    fig.set_size_inches(12, 14)\n",
    "    if num>25: num=25 \n",
    "    for i in range(0, num):\n",
    "        ax=plt.subplot(5,5, 1+i)\n",
    "        ax.imshow(images[idx],cmap='binary')\n",
    "                \n",
    "        title=str(i)+','+label_dict[labels[i][0]]\n",
    "        if len(prediction)>0:\n",
    "            title+='=>'+label_dict[prediction[i]]\n",
    "            \n",
    "        ax.set_title(title,fontsize=10) \n",
    "        ax.set_xticks([]);ax.set_yticks([])        \n",
    "        idx+=1 \n",
    "    plt.show()"
   ]
  },
  {
   "cell_type": "code",
   "execution_count": null,
   "metadata": {},
   "outputs": [],
   "source": [
    "plot_images_labels_prediction(X_img_test_normalize,y_label_test,\n",
    "                              prediction,0,10)"
   ]
  },
  {
   "cell_type": "markdown",
   "metadata": {},
   "source": [
    "# 查看預測機率"
   ]
  },
  {
   "cell_type": "code",
   "execution_count": null,
   "metadata": {},
   "outputs": [],
   "source": [
    "Predicted_Probability=model.predict(X_img_test_normalize)"
   ]
  },
  {
   "cell_type": "code",
   "execution_count": null,
   "metadata": {},
   "outputs": [],
   "source": [
    "def show_Predicted_Probability(X_img,Predicted_Probability,i):\n",
    "    plt.figure(figsize=(2,2))\n",
    "    plt.imshow(np.reshape(X_img_test[i],(32, 32,3)))\n",
    "    plt.show()\n",
    "    for j in range(10):\n",
    "        print(label_dict[j]+' Probability:%1.9f'%(Predicted_Probability[i][j]))"
   ]
  },
  {
   "cell_type": "code",
   "execution_count": null,
   "metadata": {},
   "outputs": [],
   "source": [
    "show_Predicted_Probability(X_img_test,Predicted_Probability,0)"
   ]
  },
  {
   "cell_type": "code",
   "execution_count": null,
   "metadata": {},
   "outputs": [],
   "source": [
    "show_Predicted_Probability(X_img_test,Predicted_Probability,3)"
   ]
  },
  {
   "cell_type": "markdown",
   "metadata": {},
   "source": [
    "# Save model to JSON"
   ]
  },
  {
   "cell_type": "code",
   "execution_count": null,
   "metadata": {},
   "outputs": [],
   "source": [
    "model_json = model.to_json()\n",
    "with open(\"SaveModel/cifarCnnModelnew.json\", \"w\") as json_file:\n",
    "    json_file.write(model_json)"
   ]
  },
  {
   "cell_type": "markdown",
   "metadata": {},
   "source": [
    "# Save Model to YAML"
   ]
  },
  {
   "cell_type": "code",
   "execution_count": null,
   "metadata": {},
   "outputs": [],
   "source": [
    "model_yaml = model.to_yaml()\n",
    "with open(\"SaveModel/cifarCnnModelnew.yaml\", \"w\") as yaml_file:\n",
    "    yaml_file.write(model_yaml)\n"
   ]
  },
  {
   "cell_type": "markdown",
   "metadata": {},
   "source": [
    "# Save Weight to h5 "
   ]
  },
  {
   "cell_type": "code",
   "execution_count": null,
   "metadata": {},
   "outputs": [],
   "source": [
    "model.save_weights(\"SaveModel/cifarCnnModelnew.h5\")\n",
    "print(\"Saved model to disk\")"
   ]
  },
  {
   "cell_type": "code",
   "execution_count": null,
   "metadata": {},
   "outputs": [],
   "source": []
  },
  {
   "cell_type": "code",
   "execution_count": null,
   "metadata": {},
   "outputs": [],
   "source": []
  },
  {
   "cell_type": "code",
   "execution_count": null,
   "metadata": {},
   "outputs": [],
   "source": []
  }
 ],
 "metadata": {
  "anaconda-cloud": {},
  "kernelspec": {
   "display_name": "Python 3",
   "language": "python",
   "name": "python3"
  },
  "language_info": {
   "codemirror_mode": {
    "name": "ipython",
    "version": 3
   },
   "file_extension": ".py",
   "mimetype": "text/x-python",
   "name": "python",
   "nbconvert_exporter": "python",
   "pygments_lexer": "ipython3",
   "version": "3.8.10"
  }
 },
 "nbformat": 4,
 "nbformat_minor": 1
}
